{
 "cells": [
  {
   "cell_type": "markdown",
   "id": "RIfRuDoI5G_k",
   "metadata": {
    "id": "RIfRuDoI5G_k"
   },
   "source": [
    "# Data Cleaning\n",
    "\n",
    "This iPython Notebook contains functions for cleaning up sales history export data files. This allows them to be used in the Inventory Suggestions program."
   ]
  },
  {
   "cell_type": "markdown",
   "id": "FEKbbwii5sDT",
   "metadata": {
    "id": "FEKbbwii5sDT"
   },
   "source": [
    "Listed below are the libraries used in this file. If it is ever run offline, these python libraries will need to be installed."
   ]
  },
  {
   "cell_type": "code",
   "execution_count": null,
   "id": "46f53249",
   "metadata": {
    "id": "46f53249"
   },
   "outputs": [],
   "source": [
    "import pandas as pd\n",
    "import re"
   ]
  },
  {
   "cell_type": "markdown",
   "id": "VBXlDj7w5uI3",
   "metadata": {
    "id": "VBXlDj7w5uI3"
   },
   "source": [
    "This file supports loading data from Google Drive. If you would like to use Google Drive for storing data, upload it and run the cell below. If not, don't run the cell. You can delete it, or stop it from running by putting # characters at the beginning of each line."
   ]
  },
  {
   "cell_type": "code",
   "execution_count": null,
   "id": "cHEQIzCbrqAv",
   "metadata": {
    "colab": {
     "base_uri": "https://localhost:8080/"
    },
    "executionInfo": {
     "elapsed": 22839,
     "status": "ok",
     "timestamp": 1649782307652,
     "user": {
      "displayName": "Eric Yager",
      "userId": "11138110661529068789"
     },
     "user_tz": 300
    },
    "id": "cHEQIzCbrqAv",
    "outputId": "7569fb9c-9840-4192-c30a-f5d65ffb0652"
   },
   "outputs": [],
   "source": [
    "# from google.colab import drive\n",
    "# drive.mount('/content/drive')"
   ]
  },
  {
   "cell_type": "markdown",
   "id": "pzWt8Gbg56OJ",
   "metadata": {
    "id": "pzWt8Gbg56OJ"
   },
   "source": [
    "## File Paths\n",
    "\n",
    "This code block tells the program where to look for the data file to clean. If you are using Google Drive, the `data_folder_path` variable should begin with \"drive/MyDrive/\", with any further subfolders listed after. For example:\n",
    "```\n",
    "# data folder path\n",
    "data_folder = \"drive/MyDrive/data/\"\n",
    "```\n",
    "If you would rather simply upload the data files into Google Colab, you can put them in a folder:\n",
    "```\n",
    "# data folder path\n",
    "data_folder = \"data/\"\n",
    "```\n",
    "Or, if you just put them in the default files directory, use the following:\n",
    "```\n",
    "# data folder path\n",
    "data_folder = \"./\"\n",
    "```\n",
    "The period indicates we are using the current folder.\n",
    "\n",
    "Then, input the name of the sales history file you would like to use into the variables below. For example:\n",
    "```\n",
    "# file path for sales history\n",
    "sales_history_filename = data_folder + \"Popcorn Sales History.csv\"\n",
    "```"
   ]
  },
  {
   "cell_type": "code",
   "execution_count": null,
   "id": "6f0ffdbe",
   "metadata": {
    "id": "6f0ffdbe"
   },
   "outputs": [],
   "source": [
    "data_folder_path = \"drive/MyDrive/data/\"\n",
    "file_name = \"sales_history.csv\""
   ]
  },
  {
   "cell_type": "markdown",
   "id": "5wVfO1Qp6w3F",
   "metadata": {
    "id": "5wVfO1Qp6w3F"
   },
   "source": [
    "## Dictionaries\n",
    "\n",
    "These dictionaries replace misspelled or redundant words with synonyms. The word on the left side of the colon will be replaced with the word on the right. If you add new replacements to any of the dictionaries, be sure all pairs of replacements are separated by commas."
   ]
  },
  {
   "cell_type": "code",
   "execution_count": null,
   "id": "4dcb11e2",
   "metadata": {
    "id": "4dcb11e2"
   },
   "outputs": [],
   "source": [
    "# known synonyms for products & variants\n",
    "PRODUCTS_SYNONYMS = {'redacted': 'redacted'}\n",
    "VARIANTS_SYNONYMS = {'redacted': 'redacted'}\n",
    "# other replacements for products & variants\n",
    "PRODUCTS_REPLACEMENTS = {'redacted': 'redacted'}\n",
    "VARIANTS_REPLACEMENTS = {'redacted': 'redacted'}"
   ]
  },
  {
   "cell_type": "markdown",
   "id": "kBVH1d_j8Dxq",
   "metadata": {
    "id": "kBVH1d_j8Dxq"
   },
   "source": [
    "## Functions\n",
    "The functions below are essential to the operation of the data cleaning program. They should only be modified by someone who definitely knows what they're doing."
   ]
  },
  {
   "cell_type": "code",
   "execution_count": null,
   "id": "cf787008",
   "metadata": {
    "id": "cf787008"
   },
   "outputs": [],
   "source": [
    "def adjust_dates(df, excel=False):\n",
    "    \"\"\"Convert the 'DAY Date', 'MONTH Date', and 'YEAR NUMBER Date' columns \n",
    "    into a single 'Date' columns containing a datetime64.\n",
    "\n",
    "    Parameters:\n",
    "    df (pandas.DataFrame): a dataframe constructed from popcorn data\n",
    "\n",
    "    Returns:\n",
    "    pandas.DataFrame: the same dataframe, but with the date columns converted \n",
    "        to one column\n",
    "    \"\"\"\n",
    "    if excel:\n",
    "        df['Date'] = pd.to_datetime({'year': df['YEAR NUMBER Date'],\n",
    "                                 'month': pd.DatetimeIndex(df['MONTH Date']).month,\n",
    "                                 'day': pd.DatetimeIndex(df['DAY Date']).day})\n",
    "    else:\n",
    "        df['Date'] = pd.to_datetime(df['DAY Date'], format=\"%m/%d/%Y\")\n",
    "    df.drop('YEAR NUMBER Date', axis=1, inplace=True)\n",
    "    df.drop('MONTH Date', axis=1, inplace=True)\n",
    "    df.drop('DAY Date', axis=1, inplace=True)\n",
    "    return df"
   ]
  },
  {
   "cell_type": "code",
   "execution_count": null,
   "id": "fd92fc92",
   "metadata": {
    "id": "fd92fc92"
   },
   "outputs": [],
   "source": [
    "def fix_product_variant_names(df):\n",
    "    \"\"\"Normalize the entries in the 'Product' and 'Variant' columns. This uses\n",
    "    the synonyms and replacements given at the top of the file. \n",
    "    \n",
    "    Parameters:\n",
    "    df (pandas.DataFrame): a dataframe constructed from popcorn data\n",
    "\n",
    "    Returns:\n",
    "    pandas.DataFrame: the same dataframe, but with an attempted normalization \n",
    "        of the 'Product' and 'Variant' columns\n",
    "    \"\"\"\n",
    "    # removing extra numbers\n",
    "    df['Product name'] = [x.split(' / ')[0].lower() for x in list(df['Product name'])]\n",
    "    df['Variant name'] = [x.split(' / ')[0].lower() for x in list(df['Variant name'])]\n",
    "    # swapping old-format product/variant pairs -- assumes old format starts with \"popcorn\"\n",
    "    for i, row in enumerate(df.iterrows()):\n",
    "        if row[1]['Product name'].split(' ')[0] == 'popcorn' and row[1]['Product name'].split(' ')[1] != 'tower':\n",
    "            temp = row[1]['Product name'][8:]\n",
    "            df.loc[i, 'Product name'] = row[1]['Variant name']\n",
    "            df.loc[i, 'Variant name'] = temp\n",
    "    # removing any variants from the product name\n",
    "    for i, row in enumerate(df.iterrows()):\n",
    "        if row[1]['Variant name'] in row[1]['Product name']:\n",
    "            df.loc[i, 'Product name'] = row[1]['Product name'].replace(row[1]['Variant name'], '').strip()\n",
    "    # swapping synonyms\n",
    "    for i, row in enumerate(df.iterrows()):\n",
    "        for old, new in PRODUCTS_SYNONYMS.items():\n",
    "            if old in row[1]['Product name'] and row[1]['Product name'] != new:\n",
    "                df.loc[i, 'Product name'] = row[1]['Product name'].replace(old, new).strip()\n",
    "        for old, new in VARIANTS_SYNONYMS.items():\n",
    "            if old in row[1]['Variant name'] and row[1]['Variant name'] != new:\n",
    "                df.loc[i, 'Variant name'] = row[1]['Variant name'].replace(old, new).strip()\n",
    "    # swapping replacements\n",
    "    for i, row in enumerate(df.iterrows()):\n",
    "        for old, new in PRODUCTS_REPLACEMENTS.items():\n",
    "            if old in row[1]['Product name'] and row[1]['Product name'] != new:\n",
    "                df.loc[i, 'Product name'] = row[1]['Product name'].replace(old, new).strip()\n",
    "        for old, new in VARIANTS_REPLACEMENTS.items():\n",
    "            if old in row[1]['Variant name'] and row[1]['Variant name'] != new:\n",
    "                df.loc[i, 'Variant name'] = row[1]['Variant name'].replace(old, new).strip()\n",
    "    # remove popcorn from the end of product names\n",
    "    for i, row in enumerate(df.iterrows()):\n",
    "        if row[1]['Product name'].split(' ')[-1]==\"popcorn\":\n",
    "            df.loc[i, 'Product name'] = row[1]['Product name'][:-8]\n",
    "    return df"
   ]
  },
  {
   "cell_type": "code",
   "execution_count": null,
   "id": "cae41bb1",
   "metadata": {
    "id": "cae41bb1"
   },
   "outputs": [],
   "source": [
    "def replace_missing_order_locations(df):\n",
    "    \"\"\"This function substitutes 0 for all the NaN location IDs.\n",
    "\n",
    "    Parameters:\n",
    "    df (pandas.DataFrame): a dataframe constructed from popcorn data\n",
    "\n",
    "    Returns:\n",
    "    pandas.DataFrame: the same dataframe, but with all NaN location IDs\n",
    "        replaced with 0\n",
    "    \"\"\"\n",
    "    df['Order Location Id'].fillna(0, inplace=True)\n",
    "    return df"
   ]
  },
  {
   "cell_type": "markdown",
   "id": "jbe0JnCg8X5B",
   "metadata": {
    "id": "jbe0JnCg8X5B"
   },
   "source": [
    "## Main Program Functionality\n",
    "\n",
    "The cell below contains the main functionality of the program. Running this cell (as long as all other needed cells have already been run) will clean the sales history file at the given file location and name. \n",
    "\n",
    "This prints out all unique products and variants. You may want to check the results to be sure there are not synonyms that need to be added to the dictionaries at the top of the file."
   ]
  },
  {
   "cell_type": "code",
   "execution_count": null,
   "id": "ae753421",
   "metadata": {
    "colab": {
     "base_uri": "https://localhost:8080/"
    },
    "executionInfo": {
     "elapsed": 30987,
     "status": "ok",
     "timestamp": 1649782372655,
     "user": {
      "displayName": "Eric Yager",
      "userId": "11138110661529068789"
     },
     "user_tz": 300
    },
    "id": "ae753421",
    "outputId": "7c3db2fa-a93f-4f65-f294-0f607bdef659"
   },
   "outputs": [],
   "source": [
    "sales_history_file = data_folder_path+file_name\n",
    "\n",
    "non_letters = re.compile('[^a-zA-Z0-9]')\n",
    "\n",
    "name = non_letters.sub('', ''.join(sales_history_file.split('.')[:-1]))[7:]\n",
    "\n",
    "if sales_history_file.split('.')[-1] == 'xlsx':\n",
    "    sales_history = pd.read_excel(sales_history_file)\n",
    "elif sales_history_file.split('.')[-1] == 'csv':\n",
    "    sales_history = pd.read_csv(sales_history_file)\n",
    "else:\n",
    "    raise ValueError(f\"File type not supported for file: {sales_history_file}\")\n",
    "\n",
    "sales_history = adjust_dates(sales_history)\n",
    "sales_history = fix_product_variant_names(sales_history)\n",
    "sales_history = replace_missing_order_locations(sales_history)\n",
    "\n",
    "products_string = '\\n'.join(tuple(sorted(list(set(sales_history['Product name'])))))\n",
    "print(f\"Products:\\n{products_string}\\n\")\n",
    "variants_string = '\\n'.join(tuple(sorted(list(set(sales_history['Variant name'])))))\n",
    "print(f\"Variants:\\n{variants_string}\\n\")\n",
    "\n",
    "sales_history.to_csv(f\"{data_folder_path}{name}.csv\", index=False)"
   ]
  }
 ],
 "metadata": {
  "colab": {
   "collapsed_sections": [],
   "name": "data_cleaning.ipynb",
   "provenance": []
  },
  "kernelspec": {
   "display_name": "Python 3",
   "language": "python",
   "name": "python3"
  },
  "language_info": {
   "codemirror_mode": {
    "name": "ipython",
    "version": 3
   },
   "file_extension": ".py",
   "mimetype": "text/x-python",
   "name": "python",
   "nbconvert_exporter": "python",
   "pygments_lexer": "ipython3",
   "version": "3.9.5"
  }
 },
 "nbformat": 4,
 "nbformat_minor": 5
}
